{
 "cells": [
  {
   "cell_type": "code",
   "execution_count": 1,
   "id": "6b0f3993-bc0f-4b08-abe3-aad2447fef5e",
   "metadata": {},
   "outputs": [
    {
     "name": "stdout",
     "output_type": "stream",
     "text": [
      "Requirement already satisfied: scipy in c:\\users\\shruti sahrawat\\anaconda3\\lib\\site-packages (1.13.1)\n",
      "Requirement already satisfied: numpy<2.3,>=1.22.4 in c:\\users\\shruti sahrawat\\anaconda3\\lib\\site-packages (from scipy) (1.26.4)\n",
      "Note: you may need to restart the kernel to use updated packages.\n"
     ]
    }
   ],
   "source": [
    "pip install scipy"
   ]
  },
  {
   "cell_type": "markdown",
   "id": "ef8993c0-71d0-4a10-8fd9-74394142fd2a",
   "metadata": {},
   "source": [
    "# Ungraded Lab: Exploring Convolutions\n",
    "In this lab, you will explore how convolutions work by creating a basic convolution on a 2D grayscale image. Start by importing everything you will need in this lab."
   ]
  },
  {
   "cell_type": "code",
   "execution_count": 3,
   "id": "9cc6a57f-de85-422e-8c08-30b580000561",
   "metadata": {},
   "outputs": [],
   "source": [
    "import matplotlib.pyplot as plt\n",
    "import numpy as np\n",
    "\n",
    "# Ascent image that you will work with from the SciPy library\n",
    "from scipy.datasets import ascent"
   ]
  },
  {
   "cell_type": "code",
   "execution_count": 12,
   "id": "0af9e046-c19a-4452-8a6f-0b8f8bd9851d",
   "metadata": {},
   "outputs": [],
   "source": [
    "# load the ascent image\n",
    "ascent_image = ascent()"
   ]
  },
  {
   "cell_type": "code",
   "execution_count": null,
   "id": "44af124a-a713-44b4-b4c7-429e84d68b26",
   "metadata": {},
   "outputs": [],
   "source": [
    "# Visualize the image\n",
    "plt.grid(False)\n",
    "plt.gray()\n",
    "plt.axis('off')\n",
    "plt.imshow(ascent_image)\n",
    "plt.show()"
   ]
  },
  {
   "cell_type": "code",
   "execution_count": null,
   "id": "9e477f3f-e07b-4950-bed8-6dc5e68bcb59",
   "metadata": {},
   "outputs": [],
   "source": [
    "# Copy image to a numpy array\n",
    "image_transformed = np.copy(ascent_image)\n",
    "\n",
    "# Get the dimensions of the image\n",
    "size_x = image_transformed.shape[0]\n",
    "size_y = image_transformed.shape[1]\n",
    "\n",
    "print(f\"image_transformed has shape: {size_x, size_y}\")"
   ]
  },
  {
   "cell_type": "code",
   "execution_count": null,
   "id": "cf03a549-9a7d-4561-8390-2df969ec82b7",
   "metadata": {},
   "outputs": [],
   "source": [
    "# Experiment with different values and see the effect\n",
    "filter = [[0, 1, 0], [1, -4, 1], [0, 1, 0]]\n",
    "\n",
    "# A couple more filters to try for fun!\n",
    "# filter = [ [-1, -2, -1], [0, 0, 0], [1, 2, 1]]\n",
    "# filter = [ [-1, 0, 1], [-2, 0, 2], [-1, 0, 1]]\n",
    "\n",
    "# If all the digits in the filter don't add up to 0 or 1, you \n",
    "# should probably do a weight to get it to do so\n",
    "# so, for example, if your weights are 1,1,1 1,2,1 1,1,1\n",
    "# They add up to 10, so you would set a weight of .1 if you want to normalize them\n",
    "weight  = 1"
   ]
  },
  {
   "cell_type": "code",
   "execution_count": null,
   "id": "90fbe02f-6538-4b8d-ac8b-7da4ac92a61b",
   "metadata": {},
   "outputs": [],
   "source": [
    "# Iterate over the image\n",
    "for x in range(1, size_x-1):\n",
    "    for y in range(1, size_y-1):\n",
    "        convolution = 0.0\n",
    "        convolution = convolution + (ascent_image[x-1, y-1] * filter[0][0])\n",
    "        convolution = convolution + (ascent_image[x-1, y] * filter[0][1])  \n",
    "        convolution = convolution + (ascent_image[x-1, y+1] * filter[0][2])     \n",
    "        convolution = convolution + (ascent_image[x, y-1] * filter[1][0])    \n",
    "        convolution = convolution + (ascent_image[x, y] * filter[1][1])    \n",
    "        convolution = convolution + (ascent_image[x, y+1] * filter[1][2])    \n",
    "        convolution = convolution + (ascent_image[x+1, y-1] * filter[2][0])    \n",
    "        convolution = convolution + (ascent_image[x+1, y] * filter[2][1])    \n",
    "        convolution = convolution + (ascent_image[x+1, y+1] * filter[2][2])    \n",
    "      \n",
    "        # Multiply by weight\n",
    "        convolution = convolution * weight   \n",
    "      \n",
    "        # Check the boundaries of the pixel values\n",
    "        if(convolution < 0):\n",
    "            convolution = 0\n",
    "        if(convolution > 255):\n",
    "            convolution = 255\n",
    "\n",
    "        # Load into the transformed image\n",
    "        image_transformed[x, y] = convolution"
   ]
  },
  {
   "cell_type": "code",
   "execution_count": null,
   "id": "e7bac257-d817-4e01-ad90-4a7281642472",
   "metadata": {},
   "outputs": [],
   "source": [
    "# Plot the image. Note the size of the axes -- you will compare this later after max pooling\n",
    "plt.gray()\n",
    "plt.grid(False)\n",
    "plt.imshow(image_transformed)\n",
    "plt.show()   "
   ]
  },
  {
   "cell_type": "code",
   "execution_count": null,
   "id": "751d2f26-5420-4611-9744-82a8469575f8",
   "metadata": {},
   "outputs": [],
   "source": [
    "# Assign dimensions half the size of the original image\n",
    "new_x = int(size_x / 2)\n",
    "new_y = int(size_y / 2)\n",
    "\n",
    "# Create blank image with reduced dimensions\n",
    "newImage = np.zeros((new_x, new_y))\n",
    "\n",
    "# Iterate over the image\n",
    "for x in range(0, size_x, 2):\n",
    "    for y in range(0, size_y, 2):\n",
    "    \n",
    "        # Store all the pixel values in the (2,2) pool\n",
    "        pixels = []\n",
    "        pixels.append(image_transformed[x, y])\n",
    "        pixels.append(image_transformed[x+1, y])\n",
    "        pixels.append(image_transformed[x, y+1])\n",
    "        pixels.append(image_transformed[x+1, y+1])\n",
    "\n",
    "        # Get only the largest value and assign to the reduced image\n",
    "        newImage[int(x / 2), int(y / 2)] = max(pixels)\n",
    "\n",
    "# Plot the image. Note the size of the axes -- it is now half of the image loaded earlier\n",
    "plt.gray()\n",
    "plt.grid(False)\n",
    "plt.imshow(newImage)\n",
    "plt.show()"
   ]
  }
 ],
 "metadata": {
  "kernelspec": {
   "display_name": "Python 3 (ipykernel)",
   "language": "python",
   "name": "python3"
  },
  "language_info": {
   "codemirror_mode": {
    "name": "ipython",
    "version": 3
   },
   "file_extension": ".py",
   "mimetype": "text/x-python",
   "name": "python",
   "nbconvert_exporter": "python",
   "pygments_lexer": "ipython3",
   "version": "3.12.4"
  }
 },
 "nbformat": 4,
 "nbformat_minor": 5
}
